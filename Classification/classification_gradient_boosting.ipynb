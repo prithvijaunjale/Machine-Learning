{
  "nbformat": 4,
  "nbformat_minor": 0,
  "metadata": {
    "colab": {
      "name": "classification_gradient_boosting.ipynb",
      "provenance": [],
      "collapsed_sections": []
    },
    "kernelspec": {
      "name": "python3",
      "display_name": "Python 3"
    }
  },
  "cells": [
    {
      "cell_type": "markdown",
      "metadata": {
        "id": "6CHj_9kcSdfr",
        "colab_type": "text"
      },
      "source": [
        "## Imports"
      ]
    },
    {
      "cell_type": "code",
      "metadata": {
        "id": "D_xZuxKNrtEl",
        "colab_type": "code",
        "colab": {}
      },
      "source": [
        "import pandas as pd \n",
        "import numpy as np\n",
        "from collections import Counter\n",
        "\n",
        "import sklearn\n",
        "from sklearn.metrics import accuracy_score, confusion_matrix, f1_score, roc_auc_score\n",
        "from sklearn.model_selection import train_test_split\n",
        "from sklearn.model_selection import GridSearchCV\n",
        "from sklearn.feature_selection import SelectFromModel\n",
        "from sklearn.decomposition import PCA\n",
        "from sklearn.preprocessing import StandardScaler\n",
        "from sklearn.impute import SimpleImputer\n",
        "\n",
        "import xgboost\n",
        "from xgboost import XGBClassifier\n",
        "from lightgbm import LGBMClassifier\n",
        "\n",
        "OVERSAMPLE = False\n",
        "PERFORM_PCA = False"
      ],
      "execution_count": 0,
      "outputs": []
    },
    {
      "cell_type": "markdown",
      "metadata": {
        "id": "lC2pN2IwPil_",
        "colab_type": "text"
      },
      "source": [
        "## Data Preprocessing"
      ]
    },
    {
      "cell_type": "code",
      "metadata": {
        "id": "4UgtvjiRr9d6",
        "colab_type": "code",
        "colab": {}
      },
      "source": [
        "all_cat_vars = ['Profession', 'Status', 'edu', 'Irregular', 'residence', 'prev_diagnosed', 'communication', 'Month', 'side_effects']\n",
        "categorical_vars = ['Profession', 'Status', 'edu', 'communication', 'Month', 'side_effects']\n",
        "continuous_vars = ['age', 'Money']\n",
        "\n",
        "def load_data(csv_file, impute=False):\n",
        "    df = pd.read_csv(csv_file)\n",
        "    df = df.drop(columns=['ID'])\n",
        "\n",
        "    # impute missing values\n",
        "    if impute:\n",
        "        for col in all_cat_vars:\n",
        "            df[col] = df[col].fillna(df[col].value_counts().index[0])\n",
        "        imputer = SimpleImputer(missing_values=np.nan, strategy='median')\n",
        "        df[continuous_vars] = imputer.fit_transform(df[continuous_vars].values)\n",
        "\n",
        "    # encode categorical variables\n",
        "    df = df.replace({'no': 0, 'yes': 1})\n",
        "    categorical_vars = ['Profession', 'edu', 'Status', 'communication', 'Month', 'side_effects']\n",
        "    df = pd.get_dummies(df, columns=categorical_vars)\n",
        "    return df\n",
        "\n",
        "train = load_data('doctor_train.csv', impute=True)"
      ],
      "execution_count": 0,
      "outputs": []
    },
    {
      "cell_type": "markdown",
      "metadata": {
        "id": "YHc0_bs6WHL6",
        "colab_type": "text"
      },
      "source": [
        "LGBM & XGBoost, the models I'll be using, handle missing values implicitly. Although in order to perform PCA (Principal Component Analysis) and to calculate XGBoost Feature Importance scaling and imputing is required."
      ]
    },
    {
      "cell_type": "code",
      "metadata": {
        "id": "q12N-Nb9XurV",
        "colab_type": "code",
        "outputId": "73bb5570-b289-4de5-c219-d2bf6b5537e1",
        "colab": {
          "base_uri": "https://localhost:8080/",
          "height": 235
        }
      },
      "source": [
        "train.head()"
      ],
      "execution_count": 0,
      "outputs": [
        {
          "output_type": "execute_result",
          "data": {
            "text/html": [
              "<div>\n",
              "<style scoped>\n",
              "    .dataframe tbody tr th:only-of-type {\n",
              "        vertical-align: middle;\n",
              "    }\n",
              "\n",
              "    .dataframe tbody tr th {\n",
              "        vertical-align: top;\n",
              "    }\n",
              "\n",
              "    .dataframe thead th {\n",
              "        text-align: right;\n",
              "    }\n",
              "</style>\n",
              "<table border=\"1\" class=\"dataframe\">\n",
              "  <thead>\n",
              "    <tr style=\"text-align: right;\">\n",
              "      <th></th>\n",
              "      <th>age</th>\n",
              "      <th>Irregular</th>\n",
              "      <th>Money</th>\n",
              "      <th>residence</th>\n",
              "      <th>prev_diagnosed</th>\n",
              "      <th>day</th>\n",
              "      <th>Time</th>\n",
              "      <th>Doctor_visits</th>\n",
              "      <th>last_visit</th>\n",
              "      <th>cured_in</th>\n",
              "      <th>Y</th>\n",
              "      <th>Profession_admin.</th>\n",
              "      <th>Profession_blue-collar</th>\n",
              "      <th>Profession_entrepreneur</th>\n",
              "      <th>Profession_housemaid</th>\n",
              "      <th>Profession_management</th>\n",
              "      <th>Profession_retired</th>\n",
              "      <th>Profession_self-employed</th>\n",
              "      <th>Profession_services</th>\n",
              "      <th>Profession_student</th>\n",
              "      <th>Profession_technician</th>\n",
              "      <th>Profession_unemployed</th>\n",
              "      <th>Profession_unknown</th>\n",
              "      <th>edu_primary</th>\n",
              "      <th>edu_secondary</th>\n",
              "      <th>edu_tertiary</th>\n",
              "      <th>edu_unknown</th>\n",
              "      <th>Status_divorced</th>\n",
              "      <th>Status_married</th>\n",
              "      <th>Status_single</th>\n",
              "      <th>communication_cellular</th>\n",
              "      <th>communication_telephone</th>\n",
              "      <th>communication_unknown</th>\n",
              "      <th>Month_apr</th>\n",
              "      <th>Month_aug</th>\n",
              "      <th>Month_dec</th>\n",
              "      <th>Month_feb</th>\n",
              "      <th>Month_jan</th>\n",
              "      <th>Month_jul</th>\n",
              "      <th>Month_jun</th>\n",
              "      <th>Month_mar</th>\n",
              "      <th>Month_may</th>\n",
              "      <th>Month_nov</th>\n",
              "      <th>Month_oct</th>\n",
              "      <th>Month_sep</th>\n",
              "      <th>side_effects_failure</th>\n",
              "      <th>side_effects_other</th>\n",
              "      <th>side_effects_success</th>\n",
              "      <th>side_effects_unknown</th>\n",
              "    </tr>\n",
              "  </thead>\n",
              "  <tbody>\n",
              "    <tr>\n",
              "      <th>0</th>\n",
              "      <td>30.0</td>\n",
              "      <td>0</td>\n",
              "      <td>1466.0</td>\n",
              "      <td>0.0</td>\n",
              "      <td>0.0</td>\n",
              "      <td>12</td>\n",
              "      <td>111</td>\n",
              "      <td>4</td>\n",
              "      <td>-1</td>\n",
              "      <td>0</td>\n",
              "      <td>0</td>\n",
              "      <td>0</td>\n",
              "      <td>0</td>\n",
              "      <td>0</td>\n",
              "      <td>0</td>\n",
              "      <td>1</td>\n",
              "      <td>0</td>\n",
              "      <td>0</td>\n",
              "      <td>0</td>\n",
              "      <td>0</td>\n",
              "      <td>0</td>\n",
              "      <td>0</td>\n",
              "      <td>0</td>\n",
              "      <td>0</td>\n",
              "      <td>0</td>\n",
              "      <td>1</td>\n",
              "      <td>0</td>\n",
              "      <td>0</td>\n",
              "      <td>0</td>\n",
              "      <td>1</td>\n",
              "      <td>1</td>\n",
              "      <td>0</td>\n",
              "      <td>0</td>\n",
              "      <td>0</td>\n",
              "      <td>1</td>\n",
              "      <td>0</td>\n",
              "      <td>0</td>\n",
              "      <td>0</td>\n",
              "      <td>0</td>\n",
              "      <td>0</td>\n",
              "      <td>0</td>\n",
              "      <td>0</td>\n",
              "      <td>0</td>\n",
              "      <td>0</td>\n",
              "      <td>0</td>\n",
              "      <td>0</td>\n",
              "      <td>0</td>\n",
              "      <td>0</td>\n",
              "      <td>1</td>\n",
              "    </tr>\n",
              "    <tr>\n",
              "      <th>1</th>\n",
              "      <td>35.0</td>\n",
              "      <td>0</td>\n",
              "      <td>278.0</td>\n",
              "      <td>0.0</td>\n",
              "      <td>0.0</td>\n",
              "      <td>21</td>\n",
              "      <td>84</td>\n",
              "      <td>1</td>\n",
              "      <td>-1</td>\n",
              "      <td>0</td>\n",
              "      <td>0</td>\n",
              "      <td>0</td>\n",
              "      <td>0</td>\n",
              "      <td>0</td>\n",
              "      <td>0</td>\n",
              "      <td>0</td>\n",
              "      <td>0</td>\n",
              "      <td>0</td>\n",
              "      <td>0</td>\n",
              "      <td>1</td>\n",
              "      <td>0</td>\n",
              "      <td>0</td>\n",
              "      <td>0</td>\n",
              "      <td>0</td>\n",
              "      <td>1</td>\n",
              "      <td>0</td>\n",
              "      <td>0</td>\n",
              "      <td>0</td>\n",
              "      <td>0</td>\n",
              "      <td>1</td>\n",
              "      <td>0</td>\n",
              "      <td>0</td>\n",
              "      <td>1</td>\n",
              "      <td>0</td>\n",
              "      <td>0</td>\n",
              "      <td>0</td>\n",
              "      <td>0</td>\n",
              "      <td>0</td>\n",
              "      <td>0</td>\n",
              "      <td>0</td>\n",
              "      <td>0</td>\n",
              "      <td>0</td>\n",
              "      <td>0</td>\n",
              "      <td>0</td>\n",
              "      <td>1</td>\n",
              "      <td>0</td>\n",
              "      <td>0</td>\n",
              "      <td>0</td>\n",
              "      <td>1</td>\n",
              "    </tr>\n",
              "    <tr>\n",
              "      <th>2</th>\n",
              "      <td>41.0</td>\n",
              "      <td>0</td>\n",
              "      <td>6060.0</td>\n",
              "      <td>1.0</td>\n",
              "      <td>0.0</td>\n",
              "      <td>15</td>\n",
              "      <td>71</td>\n",
              "      <td>2</td>\n",
              "      <td>-1</td>\n",
              "      <td>0</td>\n",
              "      <td>0</td>\n",
              "      <td>0</td>\n",
              "      <td>0</td>\n",
              "      <td>0</td>\n",
              "      <td>0</td>\n",
              "      <td>1</td>\n",
              "      <td>0</td>\n",
              "      <td>0</td>\n",
              "      <td>0</td>\n",
              "      <td>0</td>\n",
              "      <td>0</td>\n",
              "      <td>0</td>\n",
              "      <td>0</td>\n",
              "      <td>0</td>\n",
              "      <td>0</td>\n",
              "      <td>1</td>\n",
              "      <td>0</td>\n",
              "      <td>0</td>\n",
              "      <td>1</td>\n",
              "      <td>0</td>\n",
              "      <td>0</td>\n",
              "      <td>0</td>\n",
              "      <td>1</td>\n",
              "      <td>0</td>\n",
              "      <td>0</td>\n",
              "      <td>0</td>\n",
              "      <td>0</td>\n",
              "      <td>0</td>\n",
              "      <td>0</td>\n",
              "      <td>0</td>\n",
              "      <td>0</td>\n",
              "      <td>1</td>\n",
              "      <td>0</td>\n",
              "      <td>0</td>\n",
              "      <td>0</td>\n",
              "      <td>0</td>\n",
              "      <td>0</td>\n",
              "      <td>0</td>\n",
              "      <td>1</td>\n",
              "    </tr>\n",
              "    <tr>\n",
              "      <th>3</th>\n",
              "      <td>32.0</td>\n",
              "      <td>0</td>\n",
              "      <td>642.0</td>\n",
              "      <td>0.0</td>\n",
              "      <td>1.0</td>\n",
              "      <td>8</td>\n",
              "      <td>524</td>\n",
              "      <td>1</td>\n",
              "      <td>-1</td>\n",
              "      <td>0</td>\n",
              "      <td>0</td>\n",
              "      <td>0</td>\n",
              "      <td>1</td>\n",
              "      <td>0</td>\n",
              "      <td>0</td>\n",
              "      <td>0</td>\n",
              "      <td>0</td>\n",
              "      <td>0</td>\n",
              "      <td>0</td>\n",
              "      <td>0</td>\n",
              "      <td>0</td>\n",
              "      <td>0</td>\n",
              "      <td>0</td>\n",
              "      <td>1</td>\n",
              "      <td>0</td>\n",
              "      <td>0</td>\n",
              "      <td>0</td>\n",
              "      <td>0</td>\n",
              "      <td>1</td>\n",
              "      <td>0</td>\n",
              "      <td>1</td>\n",
              "      <td>0</td>\n",
              "      <td>0</td>\n",
              "      <td>0</td>\n",
              "      <td>0</td>\n",
              "      <td>0</td>\n",
              "      <td>0</td>\n",
              "      <td>0</td>\n",
              "      <td>1</td>\n",
              "      <td>0</td>\n",
              "      <td>0</td>\n",
              "      <td>0</td>\n",
              "      <td>0</td>\n",
              "      <td>0</td>\n",
              "      <td>0</td>\n",
              "      <td>0</td>\n",
              "      <td>0</td>\n",
              "      <td>0</td>\n",
              "      <td>1</td>\n",
              "    </tr>\n",
              "    <tr>\n",
              "      <th>4</th>\n",
              "      <td>39.0</td>\n",
              "      <td>0</td>\n",
              "      <td>2598.0</td>\n",
              "      <td>0.0</td>\n",
              "      <td>0.0</td>\n",
              "      <td>17</td>\n",
              "      <td>123</td>\n",
              "      <td>1</td>\n",
              "      <td>-1</td>\n",
              "      <td>0</td>\n",
              "      <td>0</td>\n",
              "      <td>1</td>\n",
              "      <td>0</td>\n",
              "      <td>0</td>\n",
              "      <td>0</td>\n",
              "      <td>0</td>\n",
              "      <td>0</td>\n",
              "      <td>0</td>\n",
              "      <td>0</td>\n",
              "      <td>0</td>\n",
              "      <td>0</td>\n",
              "      <td>0</td>\n",
              "      <td>0</td>\n",
              "      <td>0</td>\n",
              "      <td>1</td>\n",
              "      <td>0</td>\n",
              "      <td>0</td>\n",
              "      <td>0</td>\n",
              "      <td>1</td>\n",
              "      <td>0</td>\n",
              "      <td>1</td>\n",
              "      <td>0</td>\n",
              "      <td>0</td>\n",
              "      <td>0</td>\n",
              "      <td>0</td>\n",
              "      <td>0</td>\n",
              "      <td>0</td>\n",
              "      <td>0</td>\n",
              "      <td>0</td>\n",
              "      <td>0</td>\n",
              "      <td>0</td>\n",
              "      <td>0</td>\n",
              "      <td>1</td>\n",
              "      <td>0</td>\n",
              "      <td>0</td>\n",
              "      <td>0</td>\n",
              "      <td>0</td>\n",
              "      <td>0</td>\n",
              "      <td>1</td>\n",
              "    </tr>\n",
              "  </tbody>\n",
              "</table>\n",
              "</div>"
            ],
            "text/plain": [
              "    age  Irregular  ...  side_effects_success  side_effects_unknown\n",
              "0  30.0          0  ...                     0                     1\n",
              "1  35.0          0  ...                     0                     1\n",
              "2  41.0          0  ...                     0                     1\n",
              "3  32.0          0  ...                     0                     1\n",
              "4  39.0          0  ...                     0                     1\n",
              "\n",
              "[5 rows x 49 columns]"
            ]
          },
          "metadata": {
            "tags": []
          },
          "execution_count": 51
        }
      ]
    },
    {
      "cell_type": "code",
      "metadata": {
        "id": "nRdwSSV6yOWu",
        "colab_type": "code",
        "outputId": "b4eeb948-2e67-49db-b744-c7f750b10fb7",
        "colab": {
          "base_uri": "https://localhost:8080/",
          "height": 35
        }
      },
      "source": [
        "# classes distribution\n",
        "ratio = list(train['Y'].value_counts())\n",
        "ratio"
      ],
      "execution_count": 0,
      "outputs": [
        {
          "output_type": "execute_result",
          "data": {
            "text/plain": [
              "[24887, 3309]"
            ]
          },
          "metadata": {
            "tags": []
          },
          "execution_count": 52
        }
      ]
    },
    {
      "cell_type": "code",
      "metadata": {
        "id": "qLyzEyK1shvA",
        "colab_type": "code",
        "outputId": "d7e94e48-9aff-440c-decc-cdeb3b4f380e",
        "colab": {
          "base_uri": "https://localhost:8080/",
          "height": 52
        }
      },
      "source": [
        "def split(df):\n",
        "    y = df['Y']\n",
        "    X = df[[x for x in df.columns if x != 'Y']]\n",
        "    return X, y\n",
        "\n",
        "X, y = split(train)\n",
        "\n",
        "X_train, X_test, y_train, y_test = train_test_split(X, y, test_size=0.3, random_state=0)\n",
        "print('train:', X_train.shape, y_train.shape)\n",
        "print('test:', X_test.shape, y_test.shape)"
      ],
      "execution_count": 0,
      "outputs": [
        {
          "output_type": "stream",
          "text": [
            "train: (19737, 48) (19737,)\n",
            "test: (8459, 48) (8459,)\n"
          ],
          "name": "stdout"
        }
      ]
    },
    {
      "cell_type": "code",
      "metadata": {
        "id": "2DEhbZ4vtmNM",
        "colab_type": "code",
        "colab": {}
      },
      "source": [
        "# oversampling\n",
        "if OVERSAMPLE:\n",
        "    from imblearn.over_sampling import RandomOverSampler\n",
        "    oversample = RandomOverSampler(sampling_strategy='minority', random_state=0)\n",
        "    X_over, y_over = oversample.fit_resample(X, y)"
      ],
      "execution_count": 0,
      "outputs": []
    },
    {
      "cell_type": "code",
      "metadata": {
        "id": "yQaWQOuhPC24",
        "colab_type": "code",
        "colab": {}
      },
      "source": [
        "if OVERSAMPLE:\n",
        "    print(Counter(y_train))\n",
        "    print(Counter(y_over))"
      ],
      "execution_count": 0,
      "outputs": []
    },
    {
      "cell_type": "markdown",
      "metadata": {
        "id": "5CZfANnhTH3n",
        "colab_type": "text"
      },
      "source": [
        "In order to handle imbalanced classes oversampling is performed. It duplicates randomly selected rows from the dataset as per the strategy used.\n",
        "\n",
        "The models we'll be using have a different parameter to handle imbalanced distribution."
      ]
    },
    {
      "cell_type": "code",
      "metadata": {
        "id": "IrdARvhSoTR8",
        "colab_type": "code",
        "outputId": "8c6608be-cfcb-4555-a20f-c6e4b2acd64c",
        "colab": {
          "base_uri": "https://localhost:8080/",
          "height": 35
        }
      },
      "source": [
        "# principal component analysis\n",
        "if PERFORM_PCA:\n",
        "    scaler = StandardScaler()\n",
        "    scaler.fit(X_train)\n",
        "    X_train = scaler.transform(X_train)\n",
        "    X_test = scaler.transform(X_test)\n",
        "\n",
        "    pca = PCA(.95)7\n",
        "    pca.fit(X_train)\n",
        "    print(pca.n_components_)"
      ],
      "execution_count": 0,
      "outputs": [
        {
          "output_type": "stream",
          "text": [
            "37\n"
          ],
          "name": "stdout"
        }
      ]
    },
    {
      "cell_type": "code",
      "metadata": {
        "id": "TAES6BEQo-o2",
        "colab_type": "code",
        "colab": {}
      },
      "source": [
        "if PERFORM_PCA:\n",
        "    X_train = pca.transform(X_train)\n",
        "    X_test = pca.transform(X_test)"
      ],
      "execution_count": 0,
      "outputs": []
    },
    {
      "cell_type": "markdown",
      "metadata": {
        "id": "ame1xHYrPrPl",
        "colab_type": "text"
      },
      "source": [
        "## Feature Selection\n"
      ]
    },
    {
      "cell_type": "code",
      "metadata": {
        "id": "ZNVk9GN1Ltkj",
        "colab_type": "code",
        "outputId": "7c83e24e-9cf4-4ad2-9971-c9304e457688",
        "colab": {
          "base_uri": "https://localhost:8080/",
          "height": 513
        }
      },
      "source": [
        "# feature selection\n",
        "\n",
        "dtrain = xgboost.DMatrix(X, y)\n",
        "\n",
        "params = {\n",
        "    'scale_pos_weight': max(ratio)/min(ratio),\n",
        "    'n_estimators': 400\n",
        "}\n",
        "num_rounds = 5\n",
        "\n",
        "bst = xgboost.train(params, dtrain, num_rounds)\n",
        "ax = xgboost.plot_importance(bst, \n",
        "                             importance_type='gain', \n",
        "                             max_num_features=len(X_train.columns), \n",
        "                             xlabel='Gain')\n",
        "fig = ax.figure\n",
        "fig.set_size_inches(8, 8)"
      ],
      "execution_count": 0,
      "outputs": [
        {
          "output_type": "display_data",
          "data": {
            "image/png": "[encoded data removed]",
            "text/plain": [
              "<Figure size 576x576 with 1 Axes>"
            ]
          },
          "metadata": {
            "tags": [],
            "needs_background": "light"
          }
        }
      ]
    },
    {
      "cell_type": "markdown",
      "metadata": {
        "id": "zspWzHrPSs7r",
        "colab_type": "text"
      },
      "source": [
        "Dropping columns / Dimensionality reduction for this dataset reduced the performance, but be sure to experiment with it."
      ]
    },
    {
      "cell_type": "markdown",
      "metadata": {
        "id": "N2tN8DomQTRH",
        "colab_type": "text"
      },
      "source": [
        "## Models"
      ]
    },
    {
      "cell_type": "code",
      "metadata": {
        "id": "Kney27gXIdJ_",
        "colab_type": "code",
        "colab": {}
      },
      "source": [
        "# Evaluation\n",
        "def results(model):\n",
        "    pred = model.predict(X_test)\n",
        "    print('Accuracy:', accuracy_score(y_test, pred))\n",
        "    print('f1 score:', f1_score(y_test, pred))\n",
        "    print('ROC-AUC:', roc_auc_score(y_test, pred))\n",
        "    print('\\nConfusion matrix:')\n",
        "    return confusion_matrix(y_test, pred)"
      ],
      "execution_count": 0,
      "outputs": []
    },
    {
      "cell_type": "markdown",
      "metadata": {
        "id": "nFx9OoMwW-Zm",
        "colab_type": "text"
      },
      "source": [
        "GridSearch used for Hyperparamter Tuning."
      ]
    },
    {
      "cell_type": "markdown",
      "metadata": {
        "id": "va7OaMDZP4qk",
        "colab_type": "text"
      },
      "source": [
        "### LGBM Model"
      ]
    },
    {
      "cell_type": "code",
      "metadata": {
        "id": "Q3Umo_-6y_T5",
        "colab_type": "code",
        "colab": {}
      },
      "source": [
        "# LGBM\n",
        "\n",
        "# Tuned LGBM model\n",
        "# lgbm_model = LGBMClassifier(scale_pos_weight=10,\n",
        "                            # n_estimators=140,\n",
        "                            # learning_rate=0.17,\n",
        "                            # max_depth=8,\n",
        "                            # num_leaves=30,\n",
        "                            # reg_alpha=0.2,\n",
        "                            # reg_lambda=0.2,\n",
        "                            # subsample=0.1,\n",
        "                            # gamma=0\n",
        "                            # )\n",
        "\n",
        "# This configuration works best on the current dataset\n",
        "lgbm_model = LGBMClassifier(scale_pos_weight=10,\n",
        "                            n_estimators=140\n",
        "                            )\n",
        "\n",
        "GRID_SEARCH = False\n",
        "if GRID_SEARCH:\n",
        "    param_dist = {\n",
        "        'scale_pos_weight': [7, 7.1, 7.2, 7.3, max(ratio)/min(ratio), 8],\n",
        "        }\n",
        "    grid_search = GridSearchCV(lgbm_model, \n",
        "                            n_jobs=-1, \n",
        "                            param_grid=param_dist, \n",
        "                            cv = 3, \n",
        "                            scoring='f1', \n",
        "                            verbose=5)\n",
        "    grid_search.fit(X_train, y_train)\n",
        "\n",
        "    print(grid_search.best_params_, grid_search.best_score_)\n",
        "    results = pd.DataFrame(grid_search.cv_results_)\n",
        "    results[['mean_test_score', 'std_test_score', 'params']]"
      ],
      "execution_count": 0,
      "outputs": []
    },
    {
      "cell_type": "code",
      "metadata": {
        "id": "eYPUZbNE1VTR",
        "colab_type": "code",
        "outputId": "4db5e19e-4883-4c5e-8ed3-60c6c710c591",
        "colab": {
          "base_uri": "https://localhost:8080/",
          "height": 138
        }
      },
      "source": [
        "lgbm_model.fit(X_train, y_train)"
      ],
      "execution_count": 0,
      "outputs": [
        {
          "output_type": "execute_result",
          "data": {
            "text/plain": [
              "LGBMClassifier(boosting_type='gbdt', class_weight=None, colsample_bytree=1.0,\n",
              "               importance_type='split', learning_rate=0.1, max_depth=-1,\n",
              "               min_child_samples=20, min_child_weight=0.001, min_split_gain=0.0,\n",
              "               n_estimators=140, n_jobs=-1, num_leaves=31, objective=None,\n",
              "               random_state=None, reg_alpha=0.0, reg_lambda=0.0,\n",
              "               scale_pos_weight=10, silent=True, subsample=1.0,\n",
              "               subsample_for_bin=200000, subsample_freq=0)"
            ]
          },
          "metadata": {
            "tags": []
          },
          "execution_count": 26
        }
      ]
    },
    {
      "cell_type": "code",
      "metadata": {
        "id": "WsNYLxUf5iij",
        "colab_type": "code",
        "outputId": "4d873c86-0974-4028-bf3e-952360b3add2",
        "colab": {
          "base_uri": "https://localhost:8080/",
          "height": 138
        }
      },
      "source": [
        "results(lgbm_model)"
      ],
      "execution_count": 0,
      "outputs": [
        {
          "output_type": "stream",
          "text": [
            "Accuracy: 0.8612129093273436\n",
            "f1 score: 0.6063044936284373\n",
            "ROC-AUC: 0.8625149245589179\n",
            "\n",
            "Confusion matrix:\n"
          ],
          "name": "stdout"
        },
        {
          "output_type": "execute_result",
          "data": {
            "text/plain": [
              "array([[6381, 1032],\n",
              "       [ 142,  904]])"
            ]
          },
          "metadata": {
            "tags": []
          },
          "execution_count": 27
        }
      ]
    },
    {
      "cell_type": "markdown",
      "metadata": {
        "id": "Mibx7-b7QPlw",
        "colab_type": "text"
      },
      "source": [
        "### XGBoost Model"
      ]
    },
    {
      "cell_type": "code",
      "metadata": {
        "id": "-C8PvDHwRU7S",
        "colab_type": "code",
        "colab": {}
      },
      "source": [
        "# XGBoost\n",
        "\n",
        "# Tuned XGBoost model\n",
        "# xgb_model = XGBClassifier(scale_pos_weight=max(ratio)/min(ratio),\n",
        "                        #   n_estimators=439,\n",
        "                        #   gamma=0.28,\n",
        "                        #   reg_alpha=0.8,\n",
        "                        #   reg_lambda=1.5,\n",
        "                        #   learning_rate=0.117,\n",
        "                        #   max_depth=5,\n",
        "                        #   colsample_bytree=0.565,\n",
        "                        #   subsample=0.8\n",
        "                        #   )\n",
        "\n",
        "# This configuration works best on the current dataset\n",
        "xgb_model = XGBClassifier(scale_pos_weight=max(ratio)/min(ratio),\n",
        "                          n_estimators=439\n",
        "                          )\n",
        "GRID_SEARCH = False\n",
        "if GRID_SEARCH:\n",
        "    params = {\n",
        "        'scale_pos_weight': [max(ratio)/min(ratio)+0.1, max(ratio)/min(ratio)+0.2, max(ratio)/min(ratio)+0.3]\n",
        "        }\n",
        "\n",
        "    grid_search = GridSearchCV(model, \n",
        "                            param_grid = params, \n",
        "                            scoring='f1',\n",
        "                            n_jobs=-1,\n",
        "                            cv=3,\n",
        "                            verbose=5)\n",
        "    grid_search.fit(X, y)\n",
        "    print(grid_search.best_params_, grid_search.best_score_)\n",
        "    results = pd.DataFrame(grid_search.cv_results_)\n",
        "    results[['mean_test_score', 'std_test_score', 'params']]"
      ],
      "execution_count": 0,
      "outputs": []
    },
    {
      "cell_type": "code",
      "metadata": {
        "id": "a81zpUvf6Aiw",
        "colab_type": "code",
        "outputId": "4dc6d55a-36c6-4153-b9f3-60c9425c5a36",
        "colab": {
          "base_uri": "https://localhost:8080/",
          "height": 138
        }
      },
      "source": [
        "xgb_model.fit(X_train, y_train)"
      ],
      "execution_count": 0,
      "outputs": [
        {
          "output_type": "execute_result",
          "data": {
            "text/plain": [
              "XGBClassifier(base_score=0.5, booster='gbtree', colsample_bylevel=1,\n",
              "              colsample_bynode=1, colsample_bytree=1, gamma=0,\n",
              "              learning_rate=0.1, max_delta_step=0, max_depth=3,\n",
              "              min_child_weight=1, missing=None, n_estimators=439, n_jobs=1,\n",
              "              nthread=None, objective='binary:logistic', random_state=0,\n",
              "              reg_alpha=0, reg_lambda=1, scale_pos_weight=7.52100332426715,\n",
              "              seed=None, silent=None, subsample=1, verbosity=1)"
            ]
          },
          "metadata": {
            "tags": []
          },
          "execution_count": 65
        }
      ]
    },
    {
      "cell_type": "code",
      "metadata": {
        "id": "fjKb2BKQ1rEl",
        "colab_type": "code",
        "outputId": "a3231923-df5a-40fc-d052-bf5717b4f180",
        "colab": {
          "base_uri": "https://localhost:8080/",
          "height": 138
        }
      },
      "source": [
        "results(xgb_model)"
      ],
      "execution_count": 0,
      "outputs": [
        {
          "output_type": "stream",
          "text": [
            "Accuracy: 0.8605036056271427\n",
            "f1 score: 0.6045576407506702\n",
            "ROC-AUC: 0.8612891053105766\n",
            "\n",
            "Confusion matrix:\n"
          ],
          "name": "stdout"
        },
        {
          "output_type": "execute_result",
          "data": {
            "text/plain": [
              "array([[6377, 1036],\n",
              "       [ 144,  902]])"
            ]
          },
          "metadata": {
            "tags": []
          },
          "execution_count": 66
        }
      ]
    },
    {
      "cell_type": "markdown",
      "metadata": {
        "id": "OmSfvP-9T7mr",
        "colab_type": "text"
      },
      "source": [
        "The most important hyperparamter in both the models is 'scale_pos_weight'. This hyperparameter is responsible for handling the imbalanced distribution of classes.\n",
        "\n",
        "An optimum value is the count of the majority class examples divided by the count of the minority class examples. Experimenting with this value can provide major differences in performance."
      ]
    },
    {
      "cell_type": "markdown",
      "metadata": {
        "id": "H9qLkayvP_Y9",
        "colab_type": "text"
      },
      "source": [
        "### XGBoost Feature Importance"
      ]
    },
    {
      "cell_type": "code",
      "metadata": {
        "id": "nk_jkzlgWD1K",
        "colab_type": "code",
        "colab": {}
      },
      "source": [
        "thresh2col = dict()\n",
        "for col_name, thresh in zip(X.columns, xgb_model.feature_importances_):\n",
        "    thresh2col[thresh] = col_name"
      ],
      "execution_count": 0,
      "outputs": []
    },
    {
      "cell_type": "code",
      "metadata": {
        "id": "rib9Q8THTNKn",
        "colab_type": "code",
        "outputId": "8d7ee766-8604-4f4b-90a5-5ba2da285435",
        "colab": {
          "base_uri": "https://localhost:8080/",
          "height": 846
        }
      },
      "source": [
        "# Fit model using each importance as a threshold\n",
        "thresholds = np.sort(xgb_model.feature_importances_)\n",
        "for thresh in thresholds:\n",
        "\t# select features using threshold\n",
        "\tselection = SelectFromModel(xgb_model, threshold=thresh, prefit=True)\n",
        "\tselect_X_train = selection.transform(X_train)\n",
        "\t# train model\n",
        "\tselection_model = XGBClassifier(scale_pos_weight=max(ratio)/min(ratio),\n",
        "                                 n_estimators=400)\n",
        "\tselection_model.fit(select_X_train, y_train)\n",
        "\t# eval model\n",
        "\tselect_X_test = selection.transform(X_test)\n",
        "\tpredictions = selection_model.predict(select_X_test)\n",
        "\taccuracy = accuracy_score(y_test, predictions)\n",
        "\tf1 = f1_score(y_test, predictions)\n",
        "\tprint(\"%s:\\t\\tThresh=%.3f, n=%d, Accuracy: %.4f%%, f1: %.4f\" % (thresh2col[thresh], thresh, select_X_train.shape[1], accuracy*100.0, f1))"
      ],
      "execution_count": 0,
      "outputs": [
        {
          "output_type": "stream",
          "text": [
            "side_effects_unknown:\t\tThresh=0.000, n=48, Accuracy: 86.0858%, f1: 0.6052\n",
            "side_effects_unknown:\t\tThresh=0.000, n=48, Accuracy: 86.0858%, f1: 0.6052\n",
            "Status_divorced:\t\tThresh=0.002, n=46, Accuracy: 86.0858%, f1: 0.6052\n",
            "Status_single:\t\tThresh=0.003, n=45, Accuracy: 86.0385%, f1: 0.6033\n",
            "Profession_self-employed:\t\tThresh=0.003, n=44, Accuracy: 86.3459%, f1: 0.6112\n",
            "side_effects_other:\t\tThresh=0.004, n=43, Accuracy: 86.1922%, f1: 0.6075\n",
            "cured_in:\t\tThresh=0.005, n=42, Accuracy: 86.0267%, f1: 0.6052\n",
            "Profession_housemaid:\t\tThresh=0.005, n=41, Accuracy: 86.1449%, f1: 0.6086\n",
            "Profession_unemployed:\t\tThresh=0.005, n=40, Accuracy: 86.0740%, f1: 0.6050\n",
            "Profession_technician:\t\tThresh=0.005, n=39, Accuracy: 86.2040%, f1: 0.6072\n",
            "Profession_entrepreneur:\t\tThresh=0.005, n=38, Accuracy: 86.1804%, f1: 0.6094\n",
            "Profession_services:\t\tThresh=0.005, n=37, Accuracy: 86.2513%, f1: 0.6091\n",
            "Profession_retired:\t\tThresh=0.006, n=36, Accuracy: 86.2395%, f1: 0.6094\n",
            "side_effects_failure:\t\tThresh=0.006, n=35, Accuracy: 86.1449%, f1: 0.6070\n",
            "edu_secondary:\t\tThresh=0.006, n=34, Accuracy: 86.1095%, f1: 0.6058\n",
            "Profession_admin.:\t\tThresh=0.006, n=33, Accuracy: 86.1213%, f1: 0.6063\n",
            "communication_telephone:\t\tThresh=0.007, n=32, Accuracy: 86.1568%, f1: 0.6080\n",
            "Money:\t\tThresh=0.007, n=31, Accuracy: 86.1568%, f1: 0.6085\n",
            "Profession_management:\t\tThresh=0.007, n=30, Accuracy: 86.0622%, f1: 0.6058\n",
            "edu_unknown:\t\tThresh=0.007, n=29, Accuracy: 86.0149%, f1: 0.6045\n",
            "Month_dec:\t\tThresh=0.008, n=28, Accuracy: 86.1213%, f1: 0.6079\n",
            "Month_jul:\t\tThresh=0.009, n=27, Accuracy: 85.9676%, f1: 0.6053\n",
            "Irregular:\t\tThresh=0.009, n=26, Accuracy: 86.0504%, f1: 0.6072\n",
            "Month_aug:\t\tThresh=0.010, n=25, Accuracy: 86.0267%, f1: 0.6068\n",
            "Doctor_visits:\t\tThresh=0.011, n=24, Accuracy: 86.0031%, f1: 0.6045\n",
            "age:\t\tThresh=0.011, n=23, Accuracy: 85.8612%, f1: 0.6024\n",
            "edu_primary:\t\tThresh=0.012, n=22, Accuracy: 85.7666%, f1: 0.6026\n",
            "Month_jan:\t\tThresh=0.012, n=21, Accuracy: 85.9794%, f1: 0.6052\n",
            "communication_cellular:\t\tThresh=0.013, n=20, Accuracy: 85.6011%, f1: 0.5970\n",
            "day:\t\tThresh=0.015, n=19, Accuracy: 85.6602%, f1: 0.5974\n",
            "edu_tertiary:\t\tThresh=0.016, n=18, Accuracy: 84.3244%, f1: 0.5723\n",
            "Month_sep:\t\tThresh=0.016, n=17, Accuracy: 84.2653%, f1: 0.5697\n",
            "Status_married:\t\tThresh=0.016, n=16, Accuracy: 84.0643%, f1: 0.5682\n",
            "Profession_student:\t\tThresh=0.019, n=15, Accuracy: 84.2180%, f1: 0.5670\n",
            "Month_apr:\t\tThresh=0.019, n=14, Accuracy: 83.4496%, f1: 0.5575\n",
            "last_visit:\t\tThresh=0.021, n=13, Accuracy: 82.7876%, f1: 0.5464\n",
            "prev_diagnosed:\t\tThresh=0.022, n=12, Accuracy: 82.6102%, f1: 0.5405\n",
            "Profession_blue-collar:\t\tThresh=0.022, n=11, Accuracy: 81.8064%, f1: 0.5295\n",
            "Month_feb:\t\tThresh=0.024, n=10, Accuracy: 81.1916%, f1: 0.5238\n",
            "Month_nov:\t\tThresh=0.027, n=9, Accuracy: 81.5345%, f1: 0.5278\n",
            "Month_jun:\t\tThresh=0.032, n=8, Accuracy: 81.4990%, f1: 0.5293\n",
            "Month_may:\t\tThresh=0.033, n=7, Accuracy: 81.4162%, f1: 0.5251\n",
            "Month_mar:\t\tThresh=0.041, n=6, Accuracy: 81.2862%, f1: 0.5210\n",
            "Month_oct:\t\tThresh=0.047, n=5, Accuracy: 80.5769%, f1: 0.5094\n",
            "Time:\t\tThresh=0.057, n=4, Accuracy: 80.4469%, f1: 0.5048\n",
            "residence:\t\tThresh=0.071, n=3, Accuracy: 66.8755%, f1: 0.3284\n",
            "communication_unknown:\t\tThresh=0.089, n=2, Accuracy: 38.9408%, f1: 0.2671\n",
            "side_effects_success:\t\tThresh=0.228, n=1, Accuracy: 88.7102%, f1: 0.2760\n"
          ],
          "name": "stdout"
        }
      ]
    },
    {
      "cell_type": "markdown",
      "metadata": {
        "id": "E2_FqoRGQrlk",
        "colab_type": "text"
      },
      "source": [
        "### Stacked LGBM + XGBoost"
      ]
    },
    {
      "cell_type": "markdown",
      "metadata": {
        "id": "li_vUcpgVGVV",
        "colab_type": "text"
      },
      "source": [
        "Stacking is a popular technique which is the combining of two or more machine learning models. Here I've taken the mean of the results predicted by both the models."
      ]
    },
    {
      "cell_type": "code",
      "metadata": {
        "id": "L-EBupEGabFa",
        "colab_type": "code",
        "outputId": "156d037f-f35a-4b03-d779-53453f7c3981",
        "colab": {
          "base_uri": "https://localhost:8080/",
          "height": 138
        }
      },
      "source": [
        "# combined xgb + lgbm\n",
        "xgb_pred = xgb_model.predict(X_test)\n",
        "lgbm_pred = lgbm_model.predict(X_test)\n",
        "pred = []\n",
        "for xgb, lgbm in zip(xgb_pred, lgbm_pred):\n",
        "    pred.append(round(np.mean([xgb, lgbm])))\n",
        "\n",
        "print('Accuracy:', accuracy_score(y_test, pred))\n",
        "print('f1 score:', f1_score(y_test, pred))\n",
        "print('ROC-AUC:', roc_auc_score(y_test, pred))\n",
        "print('\\nConfusion matrix:')\n",
        "confusion_matrix(y_test, pred)"
      ],
      "execution_count": 0,
      "outputs": [
        {
          "output_type": "stream",
          "text": [
            "Accuracy: 0.8713795956968909\n",
            "f1 score: 0.6144578313253012\n",
            "ROC-AUC: 0.8531247364262927\n",
            "\n",
            "Confusion matrix:\n"
          ],
          "name": "stdout"
        },
        {
          "output_type": "execute_result",
          "data": {
            "text/plain": [
              "array([[6504,  909],\n",
              "       [ 179,  867]])"
            ]
          },
          "metadata": {
            "tags": []
          },
          "execution_count": 38
        }
      ]
    },
    {
      "cell_type": "markdown",
      "metadata": {
        "id": "ZxlIUuUEQ10V",
        "colab_type": "text"
      },
      "source": [
        "### Comparison Table"
      ]
    },
    {
      "cell_type": "code",
      "metadata": {
        "id": "8xZ1fy1uMdzG",
        "colab_type": "code",
        "outputId": "34ed073e-35ee-4292-867e-6c2108f70edf",
        "colab": {
          "base_uri": "https://localhost:8080/",
          "height": 104
        }
      },
      "source": [
        "# comparing all models\n",
        "def get_results(y_true, y_pred):\n",
        "    acc = accuracy_score(y_true, y_pred)\n",
        "    f1 = f1_score(y_true, y_pred)\n",
        "    roc_auc = roc_auc_score(y_true, y_pred)\n",
        "    return acc, f1, roc_auc\n",
        "\n",
        "xgb_acc, xgb_f1, xgb_roc_auc = get_results(y_test, xgb_model.predict(X_test))\n",
        "lgbm_acc, lgbm_f1, lgbm_roc_auc = get_results(y_test, lgbm_model.predict(X_test))\n",
        "\n",
        "xgb_pred = xgb_model.predict(X_test)\n",
        "lgbm_pred = lgbm_model.predict(X_test)\n",
        "stacked_pred = []\n",
        "for xgb, lgbm in zip(xgb_pred, lgbm_pred):\n",
        "    stacked_pred.append(round(np.mean([xgb, lgbm])))\n",
        "stacked_acc, stacked_f1, stacked_roc_auc = get_results(y_test, stacked_pred)\n",
        "\n",
        "print('\\t\\t\\tStacked\\t\\t\\tXGBoost\\t\\t\\tLGBM\\n')\n",
        "print('Accuracy\\t', stacked_acc, '\\t', xgb_acc, '\\t', lgbm_acc)\n",
        "print('F1 Score\\t', stacked_f1, '\\t', xgb_f1, '\\t', lgbm_f1)\n",
        "print('ROC AUC Score\\t', stacked_roc_auc, '\\t', xgb_roc_auc, '\\t', lgbm_roc_auc)"
      ],
      "execution_count": 0,
      "outputs": [
        {
          "output_type": "stream",
          "text": [
            "\t\t\tStacked\t\t\tXGBoost\t\t\tLGBM\n",
            "\n",
            "Accuracy\t 0.8713795956968909 \t 0.8621586475942783 \t 0.8612129093273436\n",
            "F1 Score\t 0.6144578313253012 \t 0.605814739688979 \t 0.6063044936284373\n",
            "ROC AUC Score\t 0.8531247364262927 \t 0.8597700179958777 \t 0.8625149245589179\n"
          ],
          "name": "stdout"
        }
      ]
    },
    {
      "cell_type": "markdown",
      "metadata": {
        "id": "zY7gSSBDQ5Si",
        "colab_type": "text"
      },
      "source": [
        "The LGBM Model has the highest ROC-AUC score and thus outperforms the others."
      ]
    }
  ]
}