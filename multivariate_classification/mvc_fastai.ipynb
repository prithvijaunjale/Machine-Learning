{
  "nbformat": 4,
  "nbformat_minor": 0,
  "metadata": {
    "colab": {
      "name": "exercise_fastai.ipynb",
      "provenance": [],
      "authorship_tag": "ABX9TyO35oLXX1gnHif3Uht/Nd/E",
      "include_colab_link": true
    },
    "kernelspec": {
      "name": "python3",
      "display_name": "Python 3"
    }
  },
  "cells": [
    {
      "cell_type": "markdown",
      "metadata": {
        "id": "view-in-github",
        "colab_type": "text"
      },
      "source": [
        "<a href=\"https://colab.research.google.com/github/prithvijaunjale/Machine-Learning/blob/master/multivariate_classification/mvc_fastai.ipynb\" target=\"_parent\"><img src=\"https://colab.research.google.com/assets/colab-badge.svg\" alt=\"Open In Colab\"/></a>"
      ]
    },
    {
      "cell_type": "code",
      "metadata": {
        "id": "R9SO0myYQ8xl",
        "colab_type": "code",
        "colab": {}
      },
      "source": [
        "from fastai.tabular import *\n",
        "import pandas as pd\n",
        "import numpy as np\n",
        "import os\n",
        "from collections import Counter"
      ],
      "execution_count": null,
      "outputs": []
    },
    {
      "cell_type": "code",
      "metadata": {
        "id": "4NGTbWbaRWCo",
        "colab_type": "code",
        "colab": {
          "base_uri": "https://localhost:8080/",
          "height": 52
        },
        "outputId": "36c0cca0-b562-4e2a-eb5a-0e2260ae09d8"
      },
      "source": [
        "!unzip doctor_train.csv.zip"
      ],
      "execution_count": null,
      "outputs": [
        {
          "output_type": "stream",
          "text": [
            "Archive:  doctor_train.csv.zip\n",
            "  inflating: doctor_train.csv        \n"
          ],
          "name": "stdout"
        }
      ]
    },
    {
      "cell_type": "code",
      "metadata": {
        "id": "sNtPhQMzRa0b",
        "colab_type": "code",
        "colab": {}
      },
      "source": [
        "path = os.getcwd()\n",
        "df = pd.read_csv('doctor_train.csv')\n",
        "df = df.drop(columns=['ID', 'Doctor_visits', 'day'])\n",
        "df = df.dropna()"
      ],
      "execution_count": null,
      "outputs": []
    },
    {
      "cell_type": "code",
      "metadata": {
        "id": "ciaBQK-QRwKE",
        "colab_type": "code",
        "colab": {}
      },
      "source": [
        "dep_var = 'Y'\n",
        "cat_names = ['Profession', 'Status', 'edu', 'communication', 'Month', 'side_effects']\n",
        "cont_names = [x for x in df.columns if not cat_names and x != 'Y']\n",
        "procs = [FillMissing, Categorify, Normalize]"
      ],
      "execution_count": null,
      "outputs": []
    },
    {
      "cell_type": "code",
      "metadata": {
        "id": "hrOqb1dqRv0m",
        "colab_type": "code",
        "colab": {}
      },
      "source": [
        "split_idx = df.shape[0] - int(df.shape[0] * 0.2)\n",
        "train_df = df.iloc[:split_idx, :]\n",
        "test_df = df.iloc[split_idx:, :]"
      ],
      "execution_count": null,
      "outputs": []
    },
    {
      "cell_type": "code",
      "metadata": {
        "id": "nAGP9B_6dVT9",
        "colab_type": "code",
        "colab": {
          "base_uri": "https://localhost:8080/",
          "height": 69
        },
        "outputId": "bcfbc199-3f30-4faa-e2cd-d6b03bc72a44"
      },
      "source": [
        "train_df['Y'].value_counts()"
      ],
      "execution_count": null,
      "outputs": [
        {
          "output_type": "execute_result",
          "data": {
            "text/plain": [
              "no     18065\n",
              "yes     2573\n",
              "Name: Y, dtype: int64"
            ]
          },
          "metadata": {
            "tags": []
          },
          "execution_count": 167
        }
      ]
    },
    {
      "cell_type": "code",
      "metadata": {
        "id": "tr0VC_5tbroR",
        "colab_type": "code",
        "colab": {}
      },
      "source": [
        "OVERSAMPLE = False\n",
        "\n",
        "if OVERSAMPLE:\n",
        "    X_train = train_df[[x for x in train_df.columns if x != 'Y']].values\n",
        "    y_train = train_df['Y'].values\n",
        "\n",
        "    from imblearn.over_sampling import RandomOverSampler\n",
        "    oversample = RandomOverSampler(sampling_strategy='minority', random_state=0)\n",
        "    X_over, y_over = oversample.fit_resample(X_train, y_train)\n",
        "\n",
        "    train_df = pd.DataFrame(X_over, columns=[x for x in train_df.columns if x != 'Y'])\n",
        "    train_df['Y'] = y_over"
      ],
      "execution_count": null,
      "outputs": []
    },
    {
      "cell_type": "code",
      "metadata": {
        "id": "ah7eny3ler7f",
        "colab_type": "code",
        "colab": {
          "base_uri": "https://localhost:8080/",
          "height": 69
        },
        "outputId": "6a2a97fb-244e-4eca-8ce8-bcc934cd8e08"
      },
      "source": [
        "train_df['Y'].value_counts()"
      ],
      "execution_count": null,
      "outputs": [
        {
          "output_type": "execute_result",
          "data": {
            "text/plain": [
              "no     18065\n",
              "yes     2573\n",
              "Name: Y, dtype: int64"
            ]
          },
          "metadata": {
            "tags": []
          },
          "execution_count": 169
        }
      ]
    },
    {
      "cell_type": "code",
      "metadata": {
        "id": "AAezqkAzYfJP",
        "colab_type": "code",
        "colab": {
          "base_uri": "https://localhost:8080/",
          "height": 35
        },
        "outputId": "0d614681-658a-4d73-d9e1-77142dfd2f5e"
      },
      "source": [
        "valid_idx = train_df.shape[0] - int(train_df.shape[0] * 0.15)\n",
        "valid_idx = range(valid_idx, len(train_df))\n",
        "train_df.shape, valid_idx, test_df.shape"
      ],
      "execution_count": null,
      "outputs": [
        {
          "output_type": "execute_result",
          "data": {
            "text/plain": [
              "((20638, 15), range(17543, 20638), (5159, 15))"
            ]
          },
          "metadata": {
            "tags": []
          },
          "execution_count": 170
        }
      ]
    },
    {
      "cell_type": "code",
      "metadata": {
        "id": "fzqZk8UEnjzO",
        "colab_type": "code",
        "colab": {
          "base_uri": "https://localhost:8080/",
          "height": 235
        },
        "outputId": "eac04155-1cee-4931-9b8f-a28c4375385c"
      },
      "source": [
        "test = pd.read_csv('doctor_test.csv')\n",
        "test = test.drop(columns=['ID', 'Doctor_visits', 'day'])\n",
        "test.head()"
      ],
      "execution_count": null,
      "outputs": [
        {
          "output_type": "execute_result",
          "data": {
            "text/html": [
              "<div>\n",
              "<style scoped>\n",
              "    .dataframe tbody tr th:only-of-type {\n",
              "        vertical-align: middle;\n",
              "    }\n",
              "\n",
              "    .dataframe tbody tr th {\n",
              "        vertical-align: top;\n",
              "    }\n",
              "\n",
              "    .dataframe thead th {\n",
              "        text-align: right;\n",
              "    }\n",
              "</style>\n",
              "<table border=\"1\" class=\"dataframe\">\n",
              "  <thead>\n",
              "    <tr style=\"text-align: right;\">\n",
              "      <th></th>\n",
              "      <th>age</th>\n",
              "      <th>Profession</th>\n",
              "      <th>Status</th>\n",
              "      <th>edu</th>\n",
              "      <th>Irregular</th>\n",
              "      <th>Money</th>\n",
              "      <th>residence</th>\n",
              "      <th>prev_diagnosed</th>\n",
              "      <th>communication</th>\n",
              "      <th>Month</th>\n",
              "      <th>Time</th>\n",
              "      <th>last_visit</th>\n",
              "      <th>cured_in</th>\n",
              "      <th>side_effects</th>\n",
              "    </tr>\n",
              "  </thead>\n",
              "  <tbody>\n",
              "    <tr>\n",
              "      <th>0</th>\n",
              "      <td>42.0</td>\n",
              "      <td>blue-collar</td>\n",
              "      <td>married</td>\n",
              "      <td>primary</td>\n",
              "      <td>no</td>\n",
              "      <td>188.0</td>\n",
              "      <td>yes</td>\n",
              "      <td>no</td>\n",
              "      <td>unknown</td>\n",
              "      <td>may</td>\n",
              "      <td>53</td>\n",
              "      <td>-1</td>\n",
              "      <td>0</td>\n",
              "      <td>unknown</td>\n",
              "    </tr>\n",
              "    <tr>\n",
              "      <th>1</th>\n",
              "      <td>37.0</td>\n",
              "      <td>management</td>\n",
              "      <td>married</td>\n",
              "      <td>tertiary</td>\n",
              "      <td>no</td>\n",
              "      <td>2283.0</td>\n",
              "      <td>no</td>\n",
              "      <td>no</td>\n",
              "      <td>cellular</td>\n",
              "      <td>aug</td>\n",
              "      <td>303</td>\n",
              "      <td>92</td>\n",
              "      <td>4</td>\n",
              "      <td>success</td>\n",
              "    </tr>\n",
              "    <tr>\n",
              "      <th>2</th>\n",
              "      <td>27.0</td>\n",
              "      <td>blue-collar</td>\n",
              "      <td>married</td>\n",
              "      <td>secondary</td>\n",
              "      <td>no</td>\n",
              "      <td>1341.0</td>\n",
              "      <td>yes</td>\n",
              "      <td>yes</td>\n",
              "      <td>unknown</td>\n",
              "      <td>may</td>\n",
              "      <td>254</td>\n",
              "      <td>-1</td>\n",
              "      <td>0</td>\n",
              "      <td>unknown</td>\n",
              "    </tr>\n",
              "    <tr>\n",
              "      <th>3</th>\n",
              "      <td>56.0</td>\n",
              "      <td>admin.</td>\n",
              "      <td>single</td>\n",
              "      <td>secondary</td>\n",
              "      <td>no</td>\n",
              "      <td>2815.0</td>\n",
              "      <td>yes</td>\n",
              "      <td>no</td>\n",
              "      <td>cellular</td>\n",
              "      <td>sep</td>\n",
              "      <td>212</td>\n",
              "      <td>-1</td>\n",
              "      <td>0</td>\n",
              "      <td>unknown</td>\n",
              "    </tr>\n",
              "    <tr>\n",
              "      <th>4</th>\n",
              "      <td>32.0</td>\n",
              "      <td>self-employed</td>\n",
              "      <td>single</td>\n",
              "      <td>secondary</td>\n",
              "      <td>no</td>\n",
              "      <td>123.0</td>\n",
              "      <td>yes</td>\n",
              "      <td>no</td>\n",
              "      <td>unknown</td>\n",
              "      <td>may</td>\n",
              "      <td>278</td>\n",
              "      <td>-1</td>\n",
              "      <td>0</td>\n",
              "      <td>unknown</td>\n",
              "    </tr>\n",
              "  </tbody>\n",
              "</table>\n",
              "</div>"
            ],
            "text/plain": [
              "    age     Profession   Status  ... last_visit cured_in  side_effects\n",
              "0  42.0    blue-collar  married  ...         -1        0       unknown\n",
              "1  37.0     management  married  ...         92        4       success\n",
              "2  27.0    blue-collar  married  ...         -1        0       unknown\n",
              "3  56.0         admin.   single  ...         -1        0       unknown\n",
              "4  32.0  self-employed   single  ...         -1        0       unknown\n",
              "\n",
              "[5 rows x 14 columns]"
            ]
          },
          "metadata": {
            "tags": []
          },
          "execution_count": 187
        }
      ]
    },
    {
      "cell_type": "code",
      "metadata": {
        "id": "aAdo70NfSpuW",
        "colab_type": "code",
        "colab": {}
      },
      "source": [
        "data = (TabularList.from_df(train_df, path=path, cat_names=cat_names, cont_names=cont_names, procs=procs)\n",
        "                   .split_by_idx(valid_idx)\n",
        "                   .label_from_df(cols=dep_var)\n",
        "                   .add_test(TabularList.from_df(test, path=path, cat_names=cat_names, cont_names=cont_names))\n",
        "                   .databunch())"
      ],
      "execution_count": null,
      "outputs": []
    },
    {
      "cell_type": "code",
      "metadata": {
        "id": "1ktYt4lMTEjC",
        "colab_type": "code",
        "colab": {
          "base_uri": "https://localhost:8080/",
          "height": 198
        },
        "outputId": "cc83627f-357b-447b-e781-0d59eb4ccf32"
      },
      "source": [
        "data.show_batch(rows=5)"
      ],
      "execution_count": null,
      "outputs": [
        {
          "output_type": "display_data",
          "data": {
            "text/html": [
              "<table border=\"1\" class=\"dataframe\">\n",
              "  <thead>\n",
              "    <tr style=\"text-align: right;\">\n",
              "      <th>Profession</th>\n",
              "      <th>Status</th>\n",
              "      <th>edu</th>\n",
              "      <th>communication</th>\n",
              "      <th>Month</th>\n",
              "      <th>side_effects</th>\n",
              "      <th>target</th>\n",
              "    </tr>\n",
              "  </thead>\n",
              "  <tbody>\n",
              "    <tr>\n",
              "      <td>technician</td>\n",
              "      <td>married</td>\n",
              "      <td>secondary</td>\n",
              "      <td>telephone</td>\n",
              "      <td>jun</td>\n",
              "      <td>unknown</td>\n",
              "      <td>yes</td>\n",
              "    </tr>\n",
              "    <tr>\n",
              "      <td>services</td>\n",
              "      <td>married</td>\n",
              "      <td>secondary</td>\n",
              "      <td>unknown</td>\n",
              "      <td>sep</td>\n",
              "      <td>unknown</td>\n",
              "      <td>no</td>\n",
              "    </tr>\n",
              "    <tr>\n",
              "      <td>services</td>\n",
              "      <td>divorced</td>\n",
              "      <td>secondary</td>\n",
              "      <td>unknown</td>\n",
              "      <td>may</td>\n",
              "      <td>unknown</td>\n",
              "      <td>no</td>\n",
              "    </tr>\n",
              "    <tr>\n",
              "      <td>technician</td>\n",
              "      <td>married</td>\n",
              "      <td>tertiary</td>\n",
              "      <td>cellular</td>\n",
              "      <td>jan</td>\n",
              "      <td>failure</td>\n",
              "      <td>no</td>\n",
              "    </tr>\n",
              "    <tr>\n",
              "      <td>entrepreneur</td>\n",
              "      <td>single</td>\n",
              "      <td>tertiary</td>\n",
              "      <td>cellular</td>\n",
              "      <td>jan</td>\n",
              "      <td>failure</td>\n",
              "      <td>no</td>\n",
              "    </tr>\n",
              "  </tbody>\n",
              "</table>"
            ],
            "text/plain": [
              "<IPython.core.display.HTML object>"
            ]
          },
          "metadata": {
            "tags": []
          }
        }
      ]
    },
    {
      "cell_type": "code",
      "metadata": {
        "id": "tt7Qvc_wTFVo",
        "colab_type": "code",
        "colab": {
          "base_uri": "https://localhost:8080/",
          "height": 348
        },
        "outputId": "df3a11bd-715b-4a95-83c2-1e1fa5d087d7"
      },
      "source": [
        "learn = tabular_learner(data, layers=[200, 100], metrics=accuracy)\n",
        "learn.fit(10, 1e-2)"
      ],
      "execution_count": null,
      "outputs": [
        {
          "output_type": "display_data",
          "data": {
            "text/html": [
              "<table border=\"1\" class=\"dataframe\">\n",
              "  <thead>\n",
              "    <tr style=\"text-align: left;\">\n",
              "      <th>epoch</th>\n",
              "      <th>train_loss</th>\n",
              "      <th>valid_loss</th>\n",
              "      <th>accuracy</th>\n",
              "      <th>time</th>\n",
              "    </tr>\n",
              "  </thead>\n",
              "  <tbody>\n",
              "    <tr>\n",
              "      <td>0</td>\n",
              "      <td>0.331915</td>\n",
              "      <td>0.326155</td>\n",
              "      <td>0.884653</td>\n",
              "      <td>00:03</td>\n",
              "    </tr>\n",
              "    <tr>\n",
              "      <td>1</td>\n",
              "      <td>0.324771</td>\n",
              "      <td>0.323387</td>\n",
              "      <td>0.889176</td>\n",
              "      <td>00:03</td>\n",
              "    </tr>\n",
              "    <tr>\n",
              "      <td>2</td>\n",
              "      <td>0.326330</td>\n",
              "      <td>0.323332</td>\n",
              "      <td>0.885622</td>\n",
              "      <td>00:03</td>\n",
              "    </tr>\n",
              "    <tr>\n",
              "      <td>3</td>\n",
              "      <td>0.316403</td>\n",
              "      <td>0.317339</td>\n",
              "      <td>0.882391</td>\n",
              "      <td>00:03</td>\n",
              "    </tr>\n",
              "    <tr>\n",
              "      <td>4</td>\n",
              "      <td>0.311375</td>\n",
              "      <td>0.318585</td>\n",
              "      <td>0.886914</td>\n",
              "      <td>00:03</td>\n",
              "    </tr>\n",
              "    <tr>\n",
              "      <td>5</td>\n",
              "      <td>0.307118</td>\n",
              "      <td>0.315017</td>\n",
              "      <td>0.886914</td>\n",
              "      <td>00:03</td>\n",
              "    </tr>\n",
              "    <tr>\n",
              "      <td>6</td>\n",
              "      <td>0.324547</td>\n",
              "      <td>0.314990</td>\n",
              "      <td>0.887884</td>\n",
              "      <td>00:03</td>\n",
              "    </tr>\n",
              "    <tr>\n",
              "      <td>7</td>\n",
              "      <td>0.314525</td>\n",
              "      <td>0.315043</td>\n",
              "      <td>0.885945</td>\n",
              "      <td>00:03</td>\n",
              "    </tr>\n",
              "    <tr>\n",
              "      <td>8</td>\n",
              "      <td>0.304511</td>\n",
              "      <td>0.315160</td>\n",
              "      <td>0.882714</td>\n",
              "      <td>00:03</td>\n",
              "    </tr>\n",
              "    <tr>\n",
              "      <td>9</td>\n",
              "      <td>0.316794</td>\n",
              "      <td>0.314309</td>\n",
              "      <td>0.883037</td>\n",
              "      <td>00:03</td>\n",
              "    </tr>\n",
              "  </tbody>\n",
              "</table>"
            ],
            "text/plain": [
              "<IPython.core.display.HTML object>"
            ]
          },
          "metadata": {
            "tags": []
          }
        }
      ]
    },
    {
      "cell_type": "code",
      "metadata": {
        "id": "NXJ5uhJzZtnB",
        "colab_type": "code",
        "colab": {
          "base_uri": "https://localhost:8080/",
          "height": 52
        },
        "outputId": "aa78e537-d1b6-4fe7-b21c-ca6cee71ea7f"
      },
      "source": [
        "preds, y = learn.get_preds(ds_type = DatasetType.Test)\n",
        "y_pred = [np.argmax(x) for x in preds.tolist()]\n",
        "y_true = list(test_df['Y'].replace({'no':0, 'yes':1}).values)\n",
        "\n",
        "from sklearn.metrics import confusion_matrix, accuracy_score\n",
        "confusion_matrix(y_true, y_pred)\n",
        "# f1_score(y_true, y_pred)"
      ],
      "execution_count": null,
      "outputs": [
        {
          "output_type": "display_data",
          "data": {
            "text/html": [
              ""
            ],
            "text/plain": [
              "<IPython.core.display.HTML object>"
            ]
          },
          "metadata": {
            "tags": []
          }
        },
        {
          "output_type": "execute_result",
          "data": {
            "text/plain": [
              "array([[4464,   88],\n",
              "       [ 491,  116]])"
            ]
          },
          "metadata": {
            "tags": []
          },
          "execution_count": 190
        }
      ]
    },
    {
      "cell_type": "code",
      "metadata": {
        "id": "W9P_2VOamuD0",
        "colab_type": "code",
        "colab": {}
      },
      "source": [
        "test = load_data('doctor_test.csv')\n",
        "submission = pd.DataFrame()\n",
        "submission['ID'] = range(0, len(test))\n",
        "y_pred = model.predict(test)\n",
        "pred = []\n",
        "for item in y_pred:\n",
        "    if item >= 0.5:\n",
        "        pred.append(1)\n",
        "    else:\n",
        "        pred.append(0)\n",
        "submission['Y'] = pred\n",
        "submission['Y'] = submission['Y'].replace({0:'no', 1:'yes'})\n",
        "submission.head(50)"
      ],
      "execution_count": null,
      "outputs": []
    }
  ]
}