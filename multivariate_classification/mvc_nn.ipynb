{
  "nbformat": 4,
  "nbformat_minor": 0,
  "metadata": {
    "colab": {
      "name": "exercise_nn.ipynb",
      "provenance": [],
      "collapsed_sections": [],
      "authorship_tag": "ABX9TyNacVmjSb4ULVEoQYOh3/RQ",
      "include_colab_link": true
    },
    "kernelspec": {
      "name": "python3",
      "display_name": "Python 3"
    },
    "accelerator": "GPU"
  },
  "cells": [
    {
      "cell_type": "markdown",
      "metadata": {
        "id": "view-in-github",
        "colab_type": "text"
      },
      "source": [
        "<a href=\"https://colab.research.google.com/github/prithvijaunjale/Machine-Learning/blob/master/multivariate_classification/mvc_nn.ipynb\" target=\"_parent\"><img src=\"https://colab.research.google.com/assets/colab-badge.svg\" alt=\"Open In Colab\"/></a>"
      ]
    },
    {
      "cell_type": "code",
      "metadata": {
        "id": "p3vN29JDyK-v",
        "colab_type": "code",
        "colab": {}
      },
      "source": [
        "import pandas as pd\n",
        "import numpy as np\n",
        "from collections import Counter\n",
        "\n",
        "from tensorflow.keras.models import Sequential, Model\n",
        "from tensorflow.keras.layers import Dense, Input, Embedding, Concatenate, LayerNormalization\n",
        "from tensorflow.keras.layers import BatchNormalization, Dropout\n",
        "from tensorflow.keras.wrappers.scikit_learn import KerasClassifier\n",
        "from tensorflow.keras.utils import plot_model\n",
        "\n",
        "from sklearn.model_selection import cross_val_score, train_test_split\n",
        "from sklearn.preprocessing import StandardScaler\n",
        "from sklearn.impute import SimpleImputer\n",
        "from sklearn.model_selection import StratifiedKFold"
      ],
      "execution_count": null,
      "outputs": []
    },
    {
      "cell_type": "code",
      "metadata": {
        "id": "m5GR0mqXmizh",
        "colab_type": "code",
        "colab": {}
      },
      "source": [
        "def notify():\n",
        "    import IPython.display as display\n",
        "    return display.Audio(url='http://dl.dlmusics.ir/Music/2019/Tones%20and%20I/Tones%20and%20I%20-%20Dance%20Monkey.mp3', autoplay=True)"
      ],
      "execution_count": null,
      "outputs": []
    },
    {
      "cell_type": "code",
      "metadata": {
        "id": "t_B_Bq3KgujE",
        "colab_type": "code",
        "colab": {
          "base_uri": "https://localhost:8080/",
          "height": 52
        },
        "outputId": "33c01ad7-79d1-4832-d28f-d28070537787"
      },
      "source": [
        "!unzip doctor_train.csv.zip"
      ],
      "execution_count": null,
      "outputs": [
        {
          "output_type": "stream",
          "text": [
            "Archive:  doctor_train.csv.zip\n",
            "  inflating: doctor_train.csv        \n"
          ],
          "name": "stdout"
        }
      ]
    },
    {
      "cell_type": "code",
      "metadata": {
        "id": "IONL49Hox76d",
        "colab_type": "code",
        "colab": {}
      },
      "source": [
        "all_cat_vars = ['Profession', 'Status', 'edu', 'Irregular', 'residence', 'prev_diagnosed', 'communication', 'Month', 'side_effects']\n",
        "categorical_vars = ['Profession', 'Status', 'edu', 'communication', 'Month', 'side_effects']\n",
        "continuous_vars = ['age', 'Money', 'day', 'Time', 'Doctor_visits', 'last_visit', 'cured_in']\n",
        "\n",
        "def load_data(csv_file, encode_cat='onehot'):\n",
        "    df = pd.read_csv(csv_file)\n",
        "    df = df.drop(columns=['ID'])\n",
        "    df = df.replace({'no':0, 'yes':1})\n",
        "    \n",
        "    # impute missing values\n",
        "    for col in all_cat_vars:\n",
        "        df[col] = df[col].fillna(df[col].value_counts().index[0])\n",
        "    imputer = SimpleImputer(missing_values=np.nan, strategy='median')\n",
        "    df[continuous_vars] = imputer.fit_transform(df[continuous_vars].values)\n",
        "\n",
        "    # encode categorical data\n",
        "    if encode_cat == 'onehot':\n",
        "        df = pd.get_dummies(df, columns=categorical_vars)\n",
        "        for cat_var in categorical_vars:\n",
        "            remove_col = None\n",
        "            for col in df.columns:\n",
        "                if cat_var in col:\n",
        "                    remove_col = col\n",
        "                    break \n",
        "            if remove_col:\n",
        "                df = df.drop(columns=[remove_col])\n",
        "                continue\n",
        "    elif encode_cat == 'integer':\n",
        "        for cat_var in all_cat_vars:\n",
        "            df[cat_var] = pd.factorize(df[cat_var])[0]\n",
        "            \n",
        "    # scaling\n",
        "    scaler = StandardScaler()\n",
        "    df[continuous_vars] = scaler.fit_transform(df[continuous_vars])\n",
        "    \n",
        "    return df\n",
        "\n",
        "train = load_data('doctor_train.csv', encode_cat='integer')"
      ],
      "execution_count": null,
      "outputs": []
    },
    {
      "cell_type": "code",
      "metadata": {
        "id": "fZUhjtvHPMcm",
        "colab_type": "code",
        "colab": {
          "base_uri": "https://localhost:8080/",
          "height": 235
        },
        "outputId": "918133b6-7e43-41c7-b34e-9114592b7f38"
      },
      "source": [
        "print(train.shape)\n",
        "train.head()"
      ],
      "execution_count": null,
      "outputs": [
        {
          "output_type": "stream",
          "text": [
            "(28196, 17)\n"
          ],
          "name": "stdout"
        },
        {
          "output_type": "execute_result",
          "data": {
            "text/html": [
              "<div>\n",
              "<style scoped>\n",
              "    .dataframe tbody tr th:only-of-type {\n",
              "        vertical-align: middle;\n",
              "    }\n",
              "\n",
              "    .dataframe tbody tr th {\n",
              "        vertical-align: top;\n",
              "    }\n",
              "\n",
              "    .dataframe thead th {\n",
              "        text-align: right;\n",
              "    }\n",
              "</style>\n",
              "<table border=\"1\" class=\"dataframe\">\n",
              "  <thead>\n",
              "    <tr style=\"text-align: right;\">\n",
              "      <th></th>\n",
              "      <th>age</th>\n",
              "      <th>Profession</th>\n",
              "      <th>Status</th>\n",
              "      <th>edu</th>\n",
              "      <th>Irregular</th>\n",
              "      <th>Money</th>\n",
              "      <th>residence</th>\n",
              "      <th>prev_diagnosed</th>\n",
              "      <th>communication</th>\n",
              "      <th>day</th>\n",
              "      <th>Month</th>\n",
              "      <th>Time</th>\n",
              "      <th>Doctor_visits</th>\n",
              "      <th>last_visit</th>\n",
              "      <th>cured_in</th>\n",
              "      <th>side_effects</th>\n",
              "      <th>Y</th>\n",
              "    </tr>\n",
              "  </thead>\n",
              "  <tbody>\n",
              "    <tr>\n",
              "      <th>0</th>\n",
              "      <td>-1.036003</td>\n",
              "      <td>0</td>\n",
              "      <td>0</td>\n",
              "      <td>0</td>\n",
              "      <td>0</td>\n",
              "      <td>0.036608</td>\n",
              "      <td>0</td>\n",
              "      <td>0</td>\n",
              "      <td>0</td>\n",
              "      <td>-0.453097</td>\n",
              "      <td>0</td>\n",
              "      <td>-0.569809</td>\n",
              "      <td>0.400803</td>\n",
              "      <td>-0.413892</td>\n",
              "      <td>-0.235465</td>\n",
              "      <td>0</td>\n",
              "      <td>0</td>\n",
              "    </tr>\n",
              "    <tr>\n",
              "      <th>1</th>\n",
              "      <td>-0.557958</td>\n",
              "      <td>1</td>\n",
              "      <td>0</td>\n",
              "      <td>1</td>\n",
              "      <td>0</td>\n",
              "      <td>-0.356285</td>\n",
              "      <td>0</td>\n",
              "      <td>0</td>\n",
              "      <td>1</td>\n",
              "      <td>0.624805</td>\n",
              "      <td>1</td>\n",
              "      <td>-0.674441</td>\n",
              "      <td>-0.571413</td>\n",
              "      <td>-0.413892</td>\n",
              "      <td>-0.235465</td>\n",
              "      <td>0</td>\n",
              "      <td>0</td>\n",
              "    </tr>\n",
              "    <tr>\n",
              "      <th>2</th>\n",
              "      <td>0.015696</td>\n",
              "      <td>0</td>\n",
              "      <td>1</td>\n",
              "      <td>0</td>\n",
              "      <td>0</td>\n",
              "      <td>1.555927</td>\n",
              "      <td>1</td>\n",
              "      <td>0</td>\n",
              "      <td>1</td>\n",
              "      <td>-0.093797</td>\n",
              "      <td>2</td>\n",
              "      <td>-0.724819</td>\n",
              "      <td>-0.247341</td>\n",
              "      <td>-0.413892</td>\n",
              "      <td>-0.235465</td>\n",
              "      <td>0</td>\n",
              "      <td>0</td>\n",
              "    </tr>\n",
              "    <tr>\n",
              "      <th>3</th>\n",
              "      <td>-0.844785</td>\n",
              "      <td>2</td>\n",
              "      <td>1</td>\n",
              "      <td>2</td>\n",
              "      <td>0</td>\n",
              "      <td>-0.235904</td>\n",
              "      <td>0</td>\n",
              "      <td>1</td>\n",
              "      <td>0</td>\n",
              "      <td>-0.932165</td>\n",
              "      <td>3</td>\n",
              "      <td>1.030669</td>\n",
              "      <td>-0.571413</td>\n",
              "      <td>-0.413892</td>\n",
              "      <td>-0.235465</td>\n",
              "      <td>0</td>\n",
              "      <td>0</td>\n",
              "    </tr>\n",
              "    <tr>\n",
              "      <th>4</th>\n",
              "      <td>-0.175522</td>\n",
              "      <td>3</td>\n",
              "      <td>1</td>\n",
              "      <td>1</td>\n",
              "      <td>0</td>\n",
              "      <td>0.410981</td>\n",
              "      <td>0</td>\n",
              "      <td>0</td>\n",
              "      <td>0</td>\n",
              "      <td>0.145737</td>\n",
              "      <td>4</td>\n",
              "      <td>-0.523306</td>\n",
              "      <td>-0.571413</td>\n",
              "      <td>-0.413892</td>\n",
              "      <td>-0.235465</td>\n",
              "      <td>0</td>\n",
              "      <td>0</td>\n",
              "    </tr>\n",
              "  </tbody>\n",
              "</table>\n",
              "</div>"
            ],
            "text/plain": [
              "        age  Profession  Status  edu  ...  last_visit  cured_in  side_effects  Y\n",
              "0 -1.036003           0       0    0  ...   -0.413892 -0.235465             0  0\n",
              "1 -0.557958           1       0    1  ...   -0.413892 -0.235465             0  0\n",
              "2  0.015696           0       1    0  ...   -0.413892 -0.235465             0  0\n",
              "3 -0.844785           2       1    2  ...   -0.413892 -0.235465             0  0\n",
              "4 -0.175522           3       1    1  ...   -0.413892 -0.235465             0  0\n",
              "\n",
              "[5 rows x 17 columns]"
            ]
          },
          "metadata": {
            "tags": []
          },
          "execution_count": 27
        }
      ]
    },
    {
      "cell_type": "code",
      "metadata": {
        "id": "HUdcboTRacMF",
        "colab_type": "code",
        "colab": {
          "base_uri": "https://localhost:8080/",
          "height": 35
        },
        "outputId": "61e845db-95d6-489f-81cd-8745d284451e"
      },
      "source": [
        "ratio = list(train['Y'].value_counts())\n",
        "imb_ratio = max(ratio) / min(ratio)\n",
        "imb_ratio"
      ],
      "execution_count": null,
      "outputs": [
        {
          "output_type": "execute_result",
          "data": {
            "text/plain": [
              "7.52100332426715"
            ]
          },
          "metadata": {
            "tags": []
          },
          "execution_count": 28
        }
      ]
    },
    {
      "cell_type": "code",
      "metadata": {
        "id": "eFeVlcBuwLXF",
        "colab_type": "code",
        "colab": {
          "base_uri": "https://localhost:8080/",
          "height": 52
        },
        "outputId": "a8501579-e29b-48e9-ab2e-c6dfd241d94b"
      },
      "source": [
        "def split(df):\n",
        "    y = df['Y']\n",
        "    X = df[[x for x in df.columns if x != 'Y']]\n",
        "    return X, y\n",
        "\n",
        "X, y = split(train)\n",
        "X_train, X_test, y_train, y_test = train_test_split(X, y, test_size=0.2, random_state=0)\n",
        "print('train:', X_train.shape, y_train.shape)\n",
        "print('test:', X_test.shape, y_test.shape)"
      ],
      "execution_count": null,
      "outputs": [
        {
          "output_type": "stream",
          "text": [
            "train: (22556, 16) (22556,)\n",
            "test: (5640, 16) (5640,)\n"
          ],
          "name": "stdout"
        }
      ]
    },
    {
      "cell_type": "code",
      "metadata": {
        "id": "2AgI69Xm0k86",
        "colab_type": "code",
        "colab": {}
      },
      "source": [
        "# oversampling\n",
        "OVERSAMPLE = False\n",
        "if OVERSAMPLE:\n",
        "    from imblearn.over_sampling import RandomOverSampler\n",
        "\n",
        "    oversample = RandomOverSampler(sampling_strategy=0.5, random_state=0)\n",
        "    X_over, y_over = oversample.fit_resample(X_train, y_train)"
      ],
      "execution_count": null,
      "outputs": []
    },
    {
      "cell_type": "code",
      "metadata": {
        "id": "nC5ocx5CrQCo",
        "colab_type": "code",
        "colab": {
          "base_uri": "https://localhost:8080/",
          "height": 52
        },
        "outputId": "425869c2-3460-441d-e36d-6f0b2d34f7ef"
      },
      "source": [
        "# prepare data for categorical embeddings\n",
        "def prepare_cat_inputs(X):\n",
        "    X_cat = list()\n",
        "    for cat_var in categorical_vars:\n",
        "        X_cat.append(X[cat_var])\n",
        "    return X_cat\n",
        "\n",
        "def prepare_cont_inputs(X):\n",
        "    X_cont = X[continuous_vars]\n",
        "    X_cont = X_cont.values.reshape(X_cont.shape[0], 1, X_cont.shape[1])\n",
        "    return X_cont\n",
        "\n",
        "X_train_cat = prepare_cat_inputs(X_train)\n",
        "X_test_cat = prepare_cat_inputs(X_test)\n",
        "X_train_cont = prepare_cont_inputs(X_train)\n",
        "X_test_cont = prepare_cont_inputs(X_test)\n",
        "\n",
        "print('Categorical inputs:', len(X_train_cat), len(X_test_cat))\n",
        "print('Continuous dim:', X_train_cont.shape, X_test_cont.shape)"
      ],
      "execution_count": null,
      "outputs": [
        {
          "output_type": "stream",
          "text": [
            "Categorical inputs: 6 6\n",
            "Continuous dim: (22556, 1, 7) (5640, 1, 7)\n"
          ],
          "name": "stdout"
        }
      ]
    },
    {
      "cell_type": "code",
      "metadata": {
        "id": "Iwf2q-AsunDp",
        "colab_type": "code",
        "colab": {}
      },
      "source": [
        "# prepare each input head\n",
        "in_cat_layers = list()\n",
        "em_cat_layers = list()\n",
        "for i in range(len(X_train_cat)):\n",
        "    n_labels = len(np.unique(X_train_cat[i]))\n",
        "    in_layer = Input(shape=(1,))\n",
        "    em_layer = Embedding(n_labels, min((n_labels+1)//2, 50))(in_layer)\n",
        "    # em_layer = Embedding(n_labels, 50)(in_layer)\n",
        "    in_cat_layers.append(in_layer)\n",
        "    em_cat_layers.append(em_layer)"
      ],
      "execution_count": null,
      "outputs": []
    },
    {
      "cell_type": "code",
      "metadata": {
        "id": "sAfab40y1Bgw",
        "colab_type": "code",
        "colab": {}
      },
      "source": [
        "cont_input = Input(shape=(1, X_train_cont.shape[2]), name='cont_input')\n",
        "merge1 = Concatenate(name='cat_embed')(em_cat_layers)\n",
        "merge2 = Concatenate(name='cat_plus_cont')([merge1, cont_input])\n",
        "normalized = BatchNormalization(name='normalized')(merge2)\n",
        "dropout1 = Dropout(0.2, name='dropout1')(normalized)\n",
        "hidden1 = Dense(16, activation='relu', kernel_initializer='he_normal', name='hidden1')(dropout1)\n",
        "dropout2 = Dropout(0.2, name='dropout2')(hidden1)\n",
        "hidden2 = Dense(10, activation='relu', name='hidden2')(dropout2)\n",
        "output = Dense(1, activation='sigmoid', name='output')(hidden2)\n",
        "model = Model(inputs=[in_cat_layers, cont_input], outputs=[output, normalized])"
      ],
      "execution_count": null,
      "outputs": []
    },
    {
      "cell_type": "code",
      "metadata": {
        "id": "cnlEt_sL1iZ9",
        "colab_type": "code",
        "colab": {
          "base_uri": "https://localhost:8080/",
          "height": 336
        },
        "outputId": "6604f388-a1f0-4481-93b8-6ed08dc58dfc"
      },
      "source": [
        "# compile the keras model\n",
        "model.compile(loss='binary_crossentropy', optimizer='adam', metrics=['accuracy'])\n",
        "# plot graph\n",
        "plot_model(model, show_shapes=True, to_file='embeddings.png')"
      ],
      "execution_count": null,
      "outputs": [
        {
          "output_type": "execute_result",
          "data": {
            "image/png": "[encoded data removed]",
            "text/plain": [
              "<IPython.core.display.Image object>"
            ]
          },
          "metadata": {
            "tags": []
          },
          "execution_count": 81
        }
      ]
    },
    {
      "cell_type": "code",
      "metadata": {
        "id": "lUT6be8p0-xm",
        "colab_type": "code",
        "colab": {
          "base_uri": "https://localhost:8080/",
          "height": 383
        },
        "outputId": "e65729ab-8080-4b16-b683-c3a0a08bddeb"
      },
      "source": [
        "weights = {0:1, 1:imb_ratio}  \n",
        "history = model.fit([X_train_cat, X_train_cont], y_train, class_weight=weights, epochs=10, verbose=1, validation_split=0.2, batch_size=32)"
      ],
      "execution_count": null,
      "outputs": [
        {
          "output_type": "stream",
          "text": [
            "Epoch 1/10\n",
            "564/564 [==============================] - 4s 7ms/step - loss: 4.7441 - output_loss: 1.1061 - normalized_loss: 3.6380 - output_accuracy: 0.5953 - normalized_accuracy: 3.8794e-04 - val_loss: 2.0873 - val_output_loss: 0.4604 - val_normalized_loss: 1.6269 - val_output_accuracy: 0.8229 - val_normalized_accuracy: 0.0000e+00\n",
            "Epoch 2/10\n",
            "564/564 [==============================] - 4s 7ms/step - loss: 4.0696 - output_loss: 0.8969 - normalized_loss: 3.1728 - output_accuracy: 0.7564 - normalized_accuracy: 3.8794e-04 - val_loss: 1.9031 - val_output_loss: 0.4552 - val_normalized_loss: 1.4478 - val_output_accuracy: 0.8129 - val_normalized_accuracy: 0.0000e+00\n",
            "Epoch 3/10\n",
            "564/564 [==============================] - 4s 7ms/step - loss: 3.8141 - output_loss: 0.8676 - normalized_loss: 2.9465 - output_accuracy: 0.7652 - normalized_accuracy: 7.2046e-04 - val_loss: 1.7811 - val_output_loss: 0.4153 - val_normalized_loss: 1.3658 - val_output_accuracy: 0.8231 - val_normalized_accuracy: 2.2163e-04\n",
            "Epoch 4/10\n",
            "564/564 [==============================] - 4s 7ms/step - loss: 3.6241 - output_loss: 0.8364 - normalized_loss: 2.7876 - output_accuracy: 0.7721 - normalized_accuracy: 7.7588e-04 - val_loss: 1.7563 - val_output_loss: 0.4174 - val_normalized_loss: 1.3389 - val_output_accuracy: 0.8280 - val_normalized_accuracy: 2.2163e-04\n",
            "Epoch 5/10\n",
            "564/564 [==============================] - 4s 7ms/step - loss: 3.5403 - output_loss: 0.8424 - normalized_loss: 2.6979 - output_accuracy: 0.7626 - normalized_accuracy: 0.0016 - val_loss: 1.7207 - val_output_loss: 0.4141 - val_normalized_loss: 1.3066 - val_output_accuracy: 0.8262 - val_normalized_accuracy: 2.2163e-04\n",
            "Epoch 6/10\n",
            "564/564 [==============================] - 4s 7ms/step - loss: 3.4620 - output_loss: 0.8375 - normalized_loss: 2.6244 - output_accuracy: 0.7608 - normalized_accuracy: 0.0014 - val_loss: 1.7038 - val_output_loss: 0.4301 - val_normalized_loss: 1.2737 - val_output_accuracy: 0.8154 - val_normalized_accuracy: 2.2163e-04\n",
            "Epoch 7/10\n",
            "564/564 [==============================] - 4s 7ms/step - loss: 3.3667 - output_loss: 0.8205 - normalized_loss: 2.5462 - output_accuracy: 0.7639 - normalized_accuracy: 4.4336e-04 - val_loss: 1.6609 - val_output_loss: 0.4097 - val_normalized_loss: 1.2512 - val_output_accuracy: 0.8194 - val_normalized_accuracy: 0.0000e+00\n",
            "Epoch 8/10\n",
            "564/564 [==============================] - 4s 7ms/step - loss: 3.2827 - output_loss: 0.7973 - normalized_loss: 2.4854 - output_accuracy: 0.7675 - normalized_accuracy: 7.2046e-04 - val_loss: 1.5157 - val_output_loss: 0.3740 - val_normalized_loss: 1.1417 - val_output_accuracy: 0.8333 - val_normalized_accuracy: 0.0000e+00\n",
            "Epoch 9/10\n",
            "564/564 [==============================] - 4s 7ms/step - loss: 3.1875 - output_loss: 0.8042 - normalized_loss: 2.3833 - output_accuracy: 0.7606 - normalized_accuracy: 6.6504e-04 - val_loss: 1.4650 - val_output_loss: 0.3668 - val_normalized_loss: 1.0982 - val_output_accuracy: 0.8353 - val_normalized_accuracy: 2.2163e-04\n",
            "Epoch 10/10\n",
            "564/564 [==============================] - 4s 7ms/step - loss: 3.1194 - output_loss: 0.8159 - normalized_loss: 2.3035 - output_accuracy: 0.7652 - normalized_accuracy: 5.5420e-05 - val_loss: 1.4775 - val_output_loss: 0.3960 - val_normalized_loss: 1.0814 - val_output_accuracy: 0.8302 - val_normalized_accuracy: 0.0000e+00\n"
          ],
          "name": "stdout"
        }
      ]
    },
    {
      "cell_type": "code",
      "metadata": {
        "id": "fhbhkJ96bA0-",
        "colab_type": "code",
        "colab": {
          "base_uri": "https://localhost:8080/",
          "height": 121
        },
        "outputId": "7feebaff-ef36-4bda-b169-136580588d65"
      },
      "source": [
        "y_pred = model.predict([X_test_cat, X_test_cont])\n",
        "y_pred[1][0]"
      ],
      "execution_count": null,
      "outputs": [
        {
          "output_type": "execute_result",
          "data": {
            "text/plain": [
              "array([[-0.63915324,  0.16559976, -0.41219005,  0.16456956,  0.13460293,\n",
              "         0.16217744, -0.8153615 ,  0.14427185,  0.1237216 ,  0.13619328,\n",
              "        -0.64211   ,  0.21146667,  0.18062413, -0.26148778, -1.0952251 ,\n",
              "         0.1981933 , -1.0618404 ,  0.14462765, -1.1001886 ,  0.22622323,\n",
              "        -0.36789793, -0.3047431 , -0.4293409 , -0.75168836, -0.43343002,\n",
              "         0.78194934,  0.59466684]], dtype=float32)"
            ]
          },
          "metadata": {
            "tags": []
          },
          "execution_count": 83
        }
      ]
    },
    {
      "cell_type": "code",
      "metadata": {
        "id": "C_0JAejY0JPm",
        "colab_type": "code",
        "colab": {
          "base_uri": "https://localhost:8080/",
          "height": 138
        },
        "outputId": "abb3005f-d37a-4273-c40c-eb711b92c76c"
      },
      "source": [
        "y_pred = model.predict([X_test_cat, X_test_cont])[0]\n",
        "\n",
        "pred = []\n",
        "for item in y_pred.tolist():\n",
        "    pred.append(round(item[0][0]))\n",
        "\n",
        "from sklearn.metrics import confusion_matrix, accuracy_score, roc_auc_score, f1_score\n",
        "print('Accuracy:', accuracy_score(list(y_test), pred))\n",
        "print('f1 score:', f1_score(list(y_test), pred))\n",
        "print('ROC-AUC:', roc_auc_score(list(y_test), pred))\n",
        "print('\\nConfusion matrix:')\n",
        "confusion_matrix(list(y_test), pred)"
      ],
      "execution_count": null,
      "outputs": [
        {
          "output_type": "stream",
          "text": [
            "Accuracy: 0.826063829787234\n",
            "f1 score: 0.5464632454923717\n",
            "ROC-AUC: 0.8333649121276723\n",
            "\n",
            "Confusion matrix:\n"
          ],
          "name": "stdout"
        },
        {
          "output_type": "execute_result",
          "data": {
            "text/plain": [
              "array([[4068,  871],\n",
              "       [ 110,  591]])"
            ]
          },
          "metadata": {
            "tags": []
          },
          "execution_count": 84
        }
      ]
    },
    {
      "cell_type": "code",
      "metadata": {
        "id": "-GfA9TLP-jZu",
        "colab_type": "code",
        "colab": {
          "base_uri": "https://localhost:8080/",
          "height": 215
        },
        "outputId": "306d1b17-8df3-4d8d-bd0b-8b22c90c6f4c"
      },
      "source": [
        "# make submission\n",
        "test = load_data('doctor_test.csv', encode_cat='integer')\n",
        "X_eval_cat = prepare_cat_inputs(test)\n",
        "X_eval_cont = prepare_cont_inputs(test)\n",
        "\n",
        "y_pred = model.predict([X_eval_cat, X_eval_cont])\n",
        "pred = []\n",
        "for item in y_pred.tolist():\n",
        "    pred.append(round(item[0][0]))\n",
        "\n",
        "submission = pd.DataFrame()\n",
        "submission['ID'] = range(0, len(test))\n",
        "\n",
        "submission['Y'] = pred\n",
        "submission['Y'] = submission['Y'].replace({0:'no', 1:'yes'})\n",
        "print(submission.shape)\n",
        "submission.head()"
      ],
      "execution_count": null,
      "outputs": [
        {
          "output_type": "stream",
          "text": [
            "(3000, 2)\n"
          ],
          "name": "stdout"
        },
        {
          "output_type": "execute_result",
          "data": {
            "text/html": [
              "<div>\n",
              "<style scoped>\n",
              "    .dataframe tbody tr th:only-of-type {\n",
              "        vertical-align: middle;\n",
              "    }\n",
              "\n",
              "    .dataframe tbody tr th {\n",
              "        vertical-align: top;\n",
              "    }\n",
              "\n",
              "    .dataframe thead th {\n",
              "        text-align: right;\n",
              "    }\n",
              "</style>\n",
              "<table border=\"1\" class=\"dataframe\">\n",
              "  <thead>\n",
              "    <tr style=\"text-align: right;\">\n",
              "      <th></th>\n",
              "      <th>ID</th>\n",
              "      <th>Y</th>\n",
              "    </tr>\n",
              "  </thead>\n",
              "  <tbody>\n",
              "    <tr>\n",
              "      <th>0</th>\n",
              "      <td>0</td>\n",
              "      <td>no</td>\n",
              "    </tr>\n",
              "    <tr>\n",
              "      <th>1</th>\n",
              "      <td>1</td>\n",
              "      <td>yes</td>\n",
              "    </tr>\n",
              "    <tr>\n",
              "      <th>2</th>\n",
              "      <td>2</td>\n",
              "      <td>yes</td>\n",
              "    </tr>\n",
              "    <tr>\n",
              "      <th>3</th>\n",
              "      <td>3</td>\n",
              "      <td>no</td>\n",
              "    </tr>\n",
              "    <tr>\n",
              "      <th>4</th>\n",
              "      <td>4</td>\n",
              "      <td>yes</td>\n",
              "    </tr>\n",
              "  </tbody>\n",
              "</table>\n",
              "</div>"
            ],
            "text/plain": [
              "   ID    Y\n",
              "0   0   no\n",
              "1   1  yes\n",
              "2   2  yes\n",
              "3   3   no\n",
              "4   4  yes"
            ]
          },
          "metadata": {
            "tags": []
          },
          "execution_count": 47
        }
      ]
    },
    {
      "cell_type": "code",
      "metadata": {
        "id": "FdVn0a9cw0dD",
        "colab_type": "code",
        "colab": {}
      },
      "source": [
        "submission.to_csv('submission34_nn.csv', index=False)"
      ],
      "execution_count": null,
      "outputs": []
    },
    {
      "cell_type": "code",
      "metadata": {
        "id": "KBVKvYXayXnG",
        "colab_type": "code",
        "colab": {}
      },
      "source": [
        ""
      ],
      "execution_count": null,
      "outputs": []
    }
  ]
}